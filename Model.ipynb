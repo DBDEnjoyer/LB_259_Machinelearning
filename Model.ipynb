{
 "cells": [
  {
   "cell_type": "code",
   "execution_count": null,
   "id": "49ea3296",
   "metadata": {
    "vscode": {
     "languageId": "plaintext"
    }
   },
   "outputs": [],
   "source": [
    "import pandas as pd\n",
    "\n",
    "# Daten laden\n",
    "df = pd.read_csv(\"used_car_sales.csv\")\n",
    "\n",
    "# Nur verkaufte Fahrzeuge\n",
    "df = df[df[\"Car Sale Status\"] == \"Sold\"]\n",
    "\n",
    "# Datentypen umwandeln (z.B. Datum, falls nötig)\n",
    "df[\"Sold Date\"] = pd.to_datetime(df[\"Sold Date\"], errors=\"coerce\")\n",
    "df[\"Purchased Date\"] = pd.to_datetime(df[\"Purchased Date\"], errors=\"coerce\")\n",
    "\n",
    "# Auswahl der Features\n",
    "features = [\"Manufactured Year\", \"Mileage-KM\", \"Engine Power-HP\", \"Price-$\", \"Sales Rating\"]\n",
    "target = \"Sold Price-$\"\n",
    "\n",
    "# Nur vollständige Zeilen\n",
    "df = df[features + [target]].dropna()\n"
   ]
  },
  {
   "cell_type": "code",
   "execution_count": null,
   "id": "bb380123",
   "metadata": {
    "vscode": {
     "languageId": "plaintext"
    }
   },
   "outputs": [],
   "source": [
    "from sklearn.model_selection import train_test_split\n",
    "\n",
    "X = df[features]\n",
    "y = df[target]\n",
    "\n",
    "X_train, X_test, y_train, y_test = train_test_split(X, y, test_size=0.2, random_state=42)\n"
   ]
  },
  {
   "cell_type": "code",
   "execution_count": null,
   "id": "dc10501f",
   "metadata": {
    "vscode": {
     "languageId": "plaintext"
    }
   },
   "outputs": [],
   "source": [
    "from sklearn.linear_model import LinearRegression\n",
    "\n",
    "model = LinearRegression()\n",
    "model.fit(X_train, y_train)\n"
   ]
  },
  {
   "cell_type": "code",
   "execution_count": null,
   "id": "99e36de7",
   "metadata": {
    "vscode": {
     "languageId": "plaintext"
    }
   },
   "outputs": [],
   "source": [
    "from sklearn.metrics import mean_absolute_error, r2_score\n",
    "\n",
    "y_pred = model.predict(X_test)\n",
    "\n",
    "mae = mean_absolute_error(y_test, y_pred)\n",
    "r2 = r2_score(y_test, y_pred)\n",
    "\n",
    "print(f\"MAE: {mae:.2f}\")\n",
    "print(f\"R² Score: {r2:.2f}\")\n"
   ]
  },
  {
   "cell_type": "code",
   "execution_count": null,
   "id": "4cfafe42",
   "metadata": {
    "vscode": {
     "languageId": "plaintext"
    }
   },
   "outputs": [],
   "source": [
    "sample = X_test.iloc[0]\n",
    "true_value = y_test.iloc[0]\n",
    "predicted = model.predict([sample])[0]\n",
    "\n",
    "print(\"Eingabedaten:\", sample.to_dict())\n",
    "print(f\"Tatsächlicher Verkaufspreis: {true_value}\")\n",
    "print(f\"Vorhergesagter Verkaufspreis: {predicted:.2f}\")\n"
   ]
  }
 ],
 "metadata": {
  "language_info": {
   "name": "python"
  }
 },
 "nbformat": 4,
 "nbformat_minor": 5
}
